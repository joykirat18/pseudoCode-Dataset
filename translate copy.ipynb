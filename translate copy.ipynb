{
 "cells": [
  {
   "cell_type": "code",
   "execution_count": 1,
   "metadata": {},
   "outputs": [],
   "source": [
    "import pandas as pd\n",
    "directory = 'pseudoCode_csv_full'\n",
    "type = 'test'\n",
    "data = pd.read_csv(f\"{directory}/{type}.csv\")"
   ]
  },
  {
   "cell_type": "code",
   "execution_count": 2,
   "metadata": {},
   "outputs": [],
   "source": [
    "# !pip install googletrans"
   ]
  },
  {
   "cell_type": "code",
   "execution_count": 3,
   "metadata": {},
   "outputs": [
    {
     "data": {
      "text/html": [
       "<div>\n",
       "<style scoped>\n",
       "    .dataframe tbody tr th:only-of-type {\n",
       "        vertical-align: middle;\n",
       "    }\n",
       "\n",
       "    .dataframe tbody tr th {\n",
       "        vertical-align: top;\n",
       "    }\n",
       "\n",
       "    .dataframe thead th {\n",
       "        text-align: right;\n",
       "    }\n",
       "</style>\n",
       "<table border=\"1\" class=\"dataframe\">\n",
       "  <thead>\n",
       "    <tr style=\"text-align: right;\">\n",
       "      <th></th>\n",
       "      <th>Unnamed: 0</th>\n",
       "      <th>prompt</th>\n",
       "      <th>summary</th>\n",
       "    </tr>\n",
       "  </thead>\n",
       "  <tbody>\n",
       "    <tr>\n",
       "      <th>0</th>\n",
       "      <td>410</td>\n",
       "      <td>Paco ate 36 cookies. If he had 37 cookies init...</td>\n",
       "      <td>var1 = find(initial cookies) # 37, var2 = find...</td>\n",
       "    </tr>\n",
       "    <tr>\n",
       "      <th>1</th>\n",
       "      <td>199</td>\n",
       "      <td>Jerry had 8 action figures on a shelf in his r...</td>\n",
       "      <td>var1 = find(original figures) #8, var2 = add(v...</td>\n",
       "    </tr>\n",
       "    <tr>\n",
       "      <th>2</th>\n",
       "      <td>1672</td>\n",
       "      <td>I see 23 boys. How many eyes do I see?</td>\n",
       "      <td>var1 = find(boys) # 23, var2 = multiply(var1, ...</td>\n",
       "    </tr>\n",
       "    <tr>\n",
       "      <th>3</th>\n",
       "      <td>2335</td>\n",
       "      <td>Divide 39 balloons into 7 equal groups. How ma...</td>\n",
       "      <td>var1 = find(balloons) # 39, var2 = find(groups...</td>\n",
       "    </tr>\n",
       "    <tr>\n",
       "      <th>4</th>\n",
       "      <td>1037</td>\n",
       "      <td>Cody had nine old video games he wanted to get...</td>\n",
       "      <td>var1 = find(total video games) # 9, var2 = fin...</td>\n",
       "    </tr>\n",
       "  </tbody>\n",
       "</table>\n",
       "</div>"
      ],
      "text/plain": [
       "   Unnamed: 0                                             prompt  \\\n",
       "0         410  Paco ate 36 cookies. If he had 37 cookies init...   \n",
       "1         199  Jerry had 8 action figures on a shelf in his r...   \n",
       "2        1672             I see 23 boys. How many eyes do I see?   \n",
       "3        2335  Divide 39 balloons into 7 equal groups. How ma...   \n",
       "4        1037  Cody had nine old video games he wanted to get...   \n",
       "\n",
       "                                             summary  \n",
       "0  var1 = find(initial cookies) # 37, var2 = find...  \n",
       "1  var1 = find(original figures) #8, var2 = add(v...  \n",
       "2  var1 = find(boys) # 23, var2 = multiply(var1, ...  \n",
       "3  var1 = find(balloons) # 39, var2 = find(groups...  \n",
       "4  var1 = find(total video games) # 9, var2 = fin...  "
      ]
     },
     "execution_count": 3,
     "metadata": {},
     "output_type": "execute_result"
    }
   ],
   "source": [
    "data.head()"
   ]
  },
  {
   "cell_type": "code",
   "execution_count": 4,
   "metadata": {},
   "outputs": [],
   "source": [
    "prompts = data['prompt'].tolist()\n",
    "summary = data['summary'].tolist()\n"
   ]
  },
  {
   "cell_type": "code",
   "execution_count": 5,
   "metadata": {},
   "outputs": [
    {
     "data": {
      "text/plain": [
       "'Paco ate 36 cookies. If he had 37 cookies initiallyHow many cookies did Paco have left?'"
      ]
     },
     "execution_count": 5,
     "metadata": {},
     "output_type": "execute_result"
    }
   ],
   "source": [
    "prompts[0]"
   ]
  },
  {
   "cell_type": "code",
   "execution_count": null,
   "metadata": {},
   "outputs": [],
   "source": []
  },
  {
   "cell_type": "code",
   "execution_count": 6,
   "metadata": {},
   "outputs": [
    {
     "data": {
      "text/plain": [
       "\"Paco a mangé 36 biscuits. S'il avait initialement 37 cookies, combien de cookies restait Paco\\xa0?\""
      ]
     },
     "execution_count": 6,
     "metadata": {},
     "output_type": "execute_result"
    }
   ],
   "source": [
    "from googletrans import Translator\n",
    "translator = Translator()\n",
    "translator.translate(prompts[0], src = 'en',dest='fr').text"
   ]
  },
  {
   "cell_type": "code",
   "execution_count": 7,
   "metadata": {},
   "outputs": [
    {
     "name": "stderr",
     "output_type": "stream",
     "text": [
      "100%|██████████| 363/363 [05:36<00:00,  1.08it/s]\n"
     ]
    }
   ],
   "source": [
    "fr_prompts = []\n",
    "fr_summary = []\n",
    "from tqdm import tqdm\n",
    "for i in tqdm(range(len(prompts))):\n",
    "    translator = Translator()\n",
    "    fr_prompts.append(translator.translate(prompts[i], src = 'en',dest='fr').text)\n",
    "    fr_summary.append(translator.translate(summary[i], src = 'en',dest='fr').text) "
   ]
  },
  {
   "cell_type": "code",
   "execution_count": 8,
   "metadata": {},
   "outputs": [],
   "source": [
    "data['fr_prompt'] = fr_prompts\n",
    "data['fr_summary'] = fr_summary\n",
    "data.to_csv(f\"{directory}/{type}_fr.csv\", index=False)"
   ]
  },
  {
   "cell_type": "code",
   "execution_count": null,
   "metadata": {},
   "outputs": [],
   "source": []
  }
 ],
 "metadata": {
  "kernelspec": {
   "display_name": "venv",
   "language": "python",
   "name": "python3"
  },
  "language_info": {
   "codemirror_mode": {
    "name": "ipython",
    "version": 3
   },
   "file_extension": ".py",
   "mimetype": "text/x-python",
   "name": "python",
   "nbconvert_exporter": "python",
   "pygments_lexer": "ipython3",
   "version": "3.10.1"
  },
  "orig_nbformat": 4,
  "vscode": {
   "interpreter": {
    "hash": "1c14b1b9d5ce0fd166aec7ba8167509a4268eb64591e09d805b64403efb3d704"
   }
  }
 },
 "nbformat": 4,
 "nbformat_minor": 2
}

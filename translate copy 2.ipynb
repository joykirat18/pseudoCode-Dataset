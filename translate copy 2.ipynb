{
 "cells": [
  {
   "cell_type": "code",
   "execution_count": 1,
   "metadata": {},
   "outputs": [],
   "source": [
    "import pandas as pd\n",
    "directory = 'pseudoCode_csv_noComment'\n",
    "type = 'test'\n",
    "data = pd.read_csv(f\"{directory}/{type}.csv\")"
   ]
  },
  {
   "cell_type": "code",
   "execution_count": 2,
   "metadata": {},
   "outputs": [],
   "source": [
    "# !pip install googletrans"
   ]
  },
  {
   "cell_type": "code",
   "execution_count": 3,
   "metadata": {},
   "outputs": [
    {
     "data": {
      "text/html": [
       "<div>\n",
       "<style scoped>\n",
       "    .dataframe tbody tr th:only-of-type {\n",
       "        vertical-align: middle;\n",
       "    }\n",
       "\n",
       "    .dataframe tbody tr th {\n",
       "        vertical-align: top;\n",
       "    }\n",
       "\n",
       "    .dataframe thead th {\n",
       "        text-align: right;\n",
       "    }\n",
       "</style>\n",
       "<table border=\"1\" class=\"dataframe\">\n",
       "  <thead>\n",
       "    <tr style=\"text-align: right;\">\n",
       "      <th></th>\n",
       "      <th>Unnamed: 0</th>\n",
       "      <th>prompt</th>\n",
       "      <th>summary</th>\n",
       "    </tr>\n",
       "  </thead>\n",
       "  <tbody>\n",
       "    <tr>\n",
       "      <th>0</th>\n",
       "      <td>1392</td>\n",
       "      <td>Wendy was playing a video game where she score...</td>\n",
       "      <td>var1 = find(treasures on level 1), var2 = find...</td>\n",
       "    </tr>\n",
       "    <tr>\n",
       "      <th>1</th>\n",
       "      <td>147</td>\n",
       "      <td>During the Arkansas and Texas tech game the Ra...</td>\n",
       "      <td>var1 = find(dollars made), var2 = divide(var1,...</td>\n",
       "    </tr>\n",
       "    <tr>\n",
       "      <th>2</th>\n",
       "      <td>313</td>\n",
       "      <td>Frank was reading through his favorite book. T...</td>\n",
       "      <td>var1 = find(pages in book), var2 = find(chapte...</td>\n",
       "    </tr>\n",
       "    <tr>\n",
       "      <th>3</th>\n",
       "      <td>266</td>\n",
       "      <td>Winter is almost here and most animals are mig...</td>\n",
       "      <td>var1 = find(bird families in Africa), var2 = f...</td>\n",
       "    </tr>\n",
       "    <tr>\n",
       "      <th>4</th>\n",
       "      <td>1597</td>\n",
       "      <td>Robyn and Lucy are members of their village's ...</td>\n",
       "      <td>var1 = find(Robyn cookies), var2 = find(Lucy c...</td>\n",
       "    </tr>\n",
       "  </tbody>\n",
       "</table>\n",
       "</div>"
      ],
      "text/plain": [
       "   Unnamed: 0                                             prompt  \\\n",
       "0        1392  Wendy was playing a video game where she score...   \n",
       "1         147  During the Arkansas and Texas tech game the Ra...   \n",
       "2         313  Frank was reading through his favorite book. T...   \n",
       "3         266  Winter is almost here and most animals are mig...   \n",
       "4        1597  Robyn and Lucy are members of their village's ...   \n",
       "\n",
       "                                             summary  \n",
       "0  var1 = find(treasures on level 1), var2 = find...  \n",
       "1  var1 = find(dollars made), var2 = divide(var1,...  \n",
       "2  var1 = find(pages in book), var2 = find(chapte...  \n",
       "3  var1 = find(bird families in Africa), var2 = f...  \n",
       "4  var1 = find(Robyn cookies), var2 = find(Lucy c...  "
      ]
     },
     "execution_count": 3,
     "metadata": {},
     "output_type": "execute_result"
    }
   ],
   "source": [
    "data.head()"
   ]
  },
  {
   "cell_type": "code",
   "execution_count": 4,
   "metadata": {},
   "outputs": [],
   "source": [
    "prompts = data['prompt'].tolist()\n",
    "summary = data['summary'].tolist()\n"
   ]
  },
  {
   "cell_type": "code",
   "execution_count": 5,
   "metadata": {},
   "outputs": [
    {
     "data": {
      "text/plain": [
       "'Wendy was playing a video game where she scores five points for each treasure she finds. If she found four treasures on the first level and three on the second, what would her score be?'"
      ]
     },
     "execution_count": 5,
     "metadata": {},
     "output_type": "execute_result"
    }
   ],
   "source": [
    "prompts[0]"
   ]
  },
  {
   "cell_type": "code",
   "execution_count": null,
   "metadata": {},
   "outputs": [],
   "source": []
  },
  {
   "cell_type": "code",
   "execution_count": 6,
   "metadata": {},
   "outputs": [
    {
     "data": {
      "text/plain": [
       "\"Wendy jouait à un jeu vidéo où elle marque cinq points pour chaque trésor qu'elle trouve. Si elle trouvait quatre trésors au premier niveau et trois au second, quel serait son score ?\""
      ]
     },
     "execution_count": 6,
     "metadata": {},
     "output_type": "execute_result"
    }
   ],
   "source": [
    "from googletrans import Translator\n",
    "translator = Translator()\n",
    "translator.translate(prompts[0], src = 'en',dest='fr').text"
   ]
  },
  {
   "cell_type": "code",
   "execution_count": 7,
   "metadata": {},
   "outputs": [
    {
     "name": "stderr",
     "output_type": "stream",
     "text": [
      "100%|██████████| 363/363 [05:23<00:00,  1.12it/s]\n"
     ]
    }
   ],
   "source": [
    "fr_prompts = []\n",
    "fr_summary = []\n",
    "from tqdm import tqdm\n",
    "for i in tqdm(range(len(prompts))):\n",
    "    translator = Translator()\n",
    "    fr_prompts.append(translator.translate(prompts[i], src = 'en',dest='fr').text)\n",
    "    fr_summary.append(translator.translate(summary[i], src = 'en',dest='fr').text) "
   ]
  },
  {
   "cell_type": "code",
   "execution_count": 8,
   "metadata": {},
   "outputs": [],
   "source": [
    "data['fr_prompt'] = fr_prompts\n",
    "data['fr_summary'] = fr_summary\n",
    "data.to_csv(f\"{directory}/{type}_fr.csv\", index=False)"
   ]
  },
  {
   "cell_type": "code",
   "execution_count": null,
   "metadata": {},
   "outputs": [],
   "source": []
  }
 ],
 "metadata": {
  "kernelspec": {
   "display_name": "venv",
   "language": "python",
   "name": "python3"
  },
  "language_info": {
   "codemirror_mode": {
    "name": "ipython",
    "version": 3
   },
   "file_extension": ".py",
   "mimetype": "text/x-python",
   "name": "python",
   "nbconvert_exporter": "python",
   "pygments_lexer": "ipython3",
   "version": "3.10.1"
  },
  "orig_nbformat": 4,
  "vscode": {
   "interpreter": {
    "hash": "1c14b1b9d5ce0fd166aec7ba8167509a4268eb64591e09d805b64403efb3d704"
   }
  }
 },
 "nbformat": 4,
 "nbformat_minor": 2
}
